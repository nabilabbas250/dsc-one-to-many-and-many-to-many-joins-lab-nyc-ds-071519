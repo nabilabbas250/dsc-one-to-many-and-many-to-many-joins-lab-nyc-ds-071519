{
 "cells": [
  {
   "cell_type": "markdown",
   "metadata": {},
   "source": [
    "# One-to-Many and Many-to-Many Joins - Lab"
   ]
  },
  {
   "cell_type": "markdown",
   "metadata": {},
   "source": [
    "## Introduction"
   ]
  },
  {
   "cell_type": "markdown",
   "metadata": {},
   "source": [
    "In this lab, you'll practice your knowledge on one-to-many and many-to-many relationships!"
   ]
  },
  {
   "cell_type": "markdown",
   "metadata": {},
   "source": [
    "## Objectives"
   ]
  },
  {
   "cell_type": "markdown",
   "metadata": {},
   "source": [
    "You will be able to:\n",
    "- Query data using one-to-many and many-to-many joins\n",
    "- Predict the resulting size of one-to-many and many-to-many joins"
   ]
  },
  {
   "cell_type": "markdown",
   "metadata": {},
   "source": [
    "## One-to-Many and Many-to-Many Joins\n",
    "<img src='images/Database-Schema.png' width=\"600\">"
   ]
  },
  {
   "cell_type": "markdown",
   "metadata": {},
   "source": [
    "## Connect to the Database"
   ]
  },
  {
   "cell_type": "code",
   "execution_count": 2,
   "metadata": {},
   "outputs": [],
   "source": [
    "import pandas as pd\n",
    "import sqlite3\n",
    "conn = sqlite3.connect('data.sqlite')\n",
    "c = conn.cursor()"
   ]
  },
  {
   "cell_type": "markdown",
   "metadata": {},
   "source": [
    "## Employees and their Office (a One-to-One join)\n",
    "\n",
    "Return a list of all of the employees with their first name, last name and the city and state of the office that they work out of (if they have one). Include all employees and order them by their first name, then their last name."
   ]
  },
  {
   "cell_type": "code",
   "execution_count": 18,
   "metadata": {},
   "outputs": [
    {
     "data": {
      "text/plain": [
       "23"
      ]
     },
     "execution_count": 18,
     "metadata": {},
     "output_type": "execute_result"
    }
   ],
   "source": [
    "#Your code here\n",
    "c.execute(\"\"\"SELECT firstName, lastName, city, state FROM employees JOIN offices USING (officecode) ORDER BY firstname asc\"\"\")\n",
    "\n",
    "df = pd.DataFrame(c.fetchall())\n",
    "df.columns = [i[0] for i in c.description]\n",
    "len(df)"
   ]
  },
  {
   "cell_type": "markdown",
   "metadata": {},
   "source": [
    "## Customers and their Orders (a One-to-Many join)\n",
    "\n",
    "Return a list of all the customers first and last names along with a record for each of their order numbers, order dates and statuses."
   ]
  },
  {
   "cell_type": "code",
   "execution_count": 17,
   "metadata": {},
   "outputs": [
    {
     "data": {
      "text/plain": [
       "326"
      ]
     },
     "execution_count": 17,
     "metadata": {},
     "output_type": "execute_result"
    }
   ],
   "source": [
    "c.execute(\"\"\"SELECT contactFirstName, contactLastName, orderNumber, orderDate, status\n",
    "            FROM customers\n",
    "            JOIN orders\n",
    "            USING (customerNumber)\"\"\")\n",
    "\n",
    "df = pd.DataFrame(c.fetchall())\n",
    "df.columns = [i[0] for i in c.description]\n",
    "len(df)"
   ]
  },
  {
   "cell_type": "markdown",
   "metadata": {},
   "source": [
    "## Customers and their Payments (another One-to-Many join)\n",
    "\n",
    "Return a list of customers first and last names along with details about their payments including the amount and date of payments. Sort these results in descending order by the payment amount."
   ]
  },
  {
   "cell_type": "code",
   "execution_count": 22,
   "metadata": {},
   "outputs": [
    {
     "data": {
      "text/plain": [
       "273"
      ]
     },
     "execution_count": 22,
     "metadata": {},
     "output_type": "execute_result"
    }
   ],
   "source": [
    "c.execute(\"\"\"SELECT contactfirstName, contactlastName, checkNumber, amount, paymentDate FROM customers JOIN payments USING (customernumber);\"\"\")\n",
    "\n",
    "df = pd.DataFrame(c.fetchall())\n",
    "df.columns = [i[0] for i in c.description]\n",
    "len(df)"
   ]
  },
  {
   "cell_type": "markdown",
   "metadata": {},
   "source": [
    "## Orders, Order details and Product Details (a Many-to-Many Join)"
   ]
  },
  {
   "cell_type": "markdown",
   "metadata": {},
   "source": [
    "Return a list of customer first and last names, product names, quantities, and date ordered for each of the customers and each of their orders. Sort these in descending order by the order date.\n",
    "\n",
    "Note: This will require joining 4 tables! This can be tricky! Give it a shot, and if you're still stuck, turn to the next section where you'll see how to write subqueries which can make complex queries such as this much simpler!"
   ]
  },
  {
   "cell_type": "code",
   "execution_count": 30,
   "metadata": {
    "scrolled": false
   },
   "outputs": [
    {
     "data": {
      "text/html": [
       "<div>\n",
       "<style scoped>\n",
       "    .dataframe tbody tr th:only-of-type {\n",
       "        vertical-align: middle;\n",
       "    }\n",
       "\n",
       "    .dataframe tbody tr th {\n",
       "        vertical-align: top;\n",
       "    }\n",
       "\n",
       "    .dataframe thead th {\n",
       "        text-align: right;\n",
       "    }\n",
       "</style>\n",
       "<table border=\"1\" class=\"dataframe\">\n",
       "  <thead>\n",
       "    <tr style=\"text-align: right;\">\n",
       "      <th></th>\n",
       "      <th>contactFirstName</th>\n",
       "      <th>contactLastName</th>\n",
       "      <th>productName</th>\n",
       "      <th>quantityOrdered</th>\n",
       "      <th>orderDate</th>\n",
       "    </tr>\n",
       "  </thead>\n",
       "  <tbody>\n",
       "    <tr>\n",
       "      <th>0</th>\n",
       "      <td>Carine</td>\n",
       "      <td>Schmitt</td>\n",
       "      <td>1965 Aston Martin DB5</td>\n",
       "      <td>26</td>\n",
       "      <td>2003-05-20</td>\n",
       "    </tr>\n",
       "    <tr>\n",
       "      <th>1</th>\n",
       "      <td>Carine</td>\n",
       "      <td>Schmitt</td>\n",
       "      <td>1999 Indy 500 Monte Carlo SS</td>\n",
       "      <td>46</td>\n",
       "      <td>2003-05-20</td>\n",
       "    </tr>\n",
       "    <tr>\n",
       "      <th>2</th>\n",
       "      <td>Carine</td>\n",
       "      <td>Schmitt</td>\n",
       "      <td>1948 Porsche Type 356 Roadster</td>\n",
       "      <td>34</td>\n",
       "      <td>2003-05-20</td>\n",
       "    </tr>\n",
       "    <tr>\n",
       "      <th>3</th>\n",
       "      <td>Carine</td>\n",
       "      <td>Schmitt</td>\n",
       "      <td>1966 Shelby Cobra 427 S/C</td>\n",
       "      <td>50</td>\n",
       "      <td>2003-05-20</td>\n",
       "    </tr>\n",
       "    <tr>\n",
       "      <th>4</th>\n",
       "      <td>Carine</td>\n",
       "      <td>Schmitt</td>\n",
       "      <td>1996 Moto Guzzi 1100i</td>\n",
       "      <td>39</td>\n",
       "      <td>2004-09-27</td>\n",
       "    </tr>\n",
       "    <tr>\n",
       "      <th>5</th>\n",
       "      <td>Carine</td>\n",
       "      <td>Schmitt</td>\n",
       "      <td>1936 Harley Davidson El Knucklehead</td>\n",
       "      <td>32</td>\n",
       "      <td>2004-09-27</td>\n",
       "    </tr>\n",
       "    <tr>\n",
       "      <th>6</th>\n",
       "      <td>Carine</td>\n",
       "      <td>Schmitt</td>\n",
       "      <td>1938 Cadillac V-16 Presidential Limousine</td>\n",
       "      <td>43</td>\n",
       "      <td>2004-11-25</td>\n",
       "    </tr>\n",
       "    <tr>\n",
       "      <th>7</th>\n",
       "      <td>Jean</td>\n",
       "      <td>King</td>\n",
       "      <td>1917 Grand Touring Sedan</td>\n",
       "      <td>21</td>\n",
       "      <td>2003-05-21</td>\n",
       "    </tr>\n",
       "    <tr>\n",
       "      <th>8</th>\n",
       "      <td>Jean</td>\n",
       "      <td>King</td>\n",
       "      <td>1911 Ford Town Car</td>\n",
       "      <td>42</td>\n",
       "      <td>2003-05-21</td>\n",
       "    </tr>\n",
       "    <tr>\n",
       "      <th>9</th>\n",
       "      <td>Jean</td>\n",
       "      <td>King</td>\n",
       "      <td>1932 Model A Ford J-Coupe</td>\n",
       "      <td>42</td>\n",
       "      <td>2003-05-21</td>\n",
       "    </tr>\n",
       "    <tr>\n",
       "      <th>10</th>\n",
       "      <td>Jean</td>\n",
       "      <td>King</td>\n",
       "      <td>1932 Alfa Romeo 8C2300 Spider Sport</td>\n",
       "      <td>36</td>\n",
       "      <td>2003-05-21</td>\n",
       "    </tr>\n",
       "    <tr>\n",
       "      <th>11</th>\n",
       "      <td>Jean</td>\n",
       "      <td>King</td>\n",
       "      <td>1957 Ford Thunderbird</td>\n",
       "      <td>23</td>\n",
       "      <td>2003-05-21</td>\n",
       "    </tr>\n",
       "    <tr>\n",
       "      <th>12</th>\n",
       "      <td>Jean</td>\n",
       "      <td>King</td>\n",
       "      <td>1970 Chevy Chevelle SS 454</td>\n",
       "      <td>22</td>\n",
       "      <td>2003-05-21</td>\n",
       "    </tr>\n",
       "    <tr>\n",
       "      <th>13</th>\n",
       "      <td>Jean</td>\n",
       "      <td>King</td>\n",
       "      <td>1939 Chevrolet Deluxe Coupe</td>\n",
       "      <td>45</td>\n",
       "      <td>2003-05-21</td>\n",
       "    </tr>\n",
       "    <tr>\n",
       "      <th>14</th>\n",
       "      <td>Jean</td>\n",
       "      <td>King</td>\n",
       "      <td>1938 Cadillac V-16 Presidential Limousine</td>\n",
       "      <td>22</td>\n",
       "      <td>2003-05-21</td>\n",
       "    </tr>\n",
       "    <tr>\n",
       "      <th>15</th>\n",
       "      <td>Jean</td>\n",
       "      <td>King</td>\n",
       "      <td>1949 Jaguar XK 120</td>\n",
       "      <td>32</td>\n",
       "      <td>2003-05-21</td>\n",
       "    </tr>\n",
       "    <tr>\n",
       "      <th>16</th>\n",
       "      <td>Jean</td>\n",
       "      <td>King</td>\n",
       "      <td>1952 Citroen-15CV</td>\n",
       "      <td>25</td>\n",
       "      <td>2003-05-21</td>\n",
       "    </tr>\n",
       "    <tr>\n",
       "      <th>17</th>\n",
       "      <td>Jean</td>\n",
       "      <td>King</td>\n",
       "      <td>1969 Chevrolet Camaro Z28</td>\n",
       "      <td>49</td>\n",
       "      <td>2003-05-21</td>\n",
       "    </tr>\n",
       "    <tr>\n",
       "      <th>18</th>\n",
       "      <td>Jean</td>\n",
       "      <td>King</td>\n",
       "      <td>2002 Chevy Corvette</td>\n",
       "      <td>43</td>\n",
       "      <td>2003-05-21</td>\n",
       "    </tr>\n",
       "    <tr>\n",
       "      <th>19</th>\n",
       "      <td>Jean</td>\n",
       "      <td>King</td>\n",
       "      <td>1936 Mercedes Benz 500k Roadster</td>\n",
       "      <td>46</td>\n",
       "      <td>2003-05-21</td>\n",
       "    </tr>\n",
       "    <tr>\n",
       "      <th>20</th>\n",
       "      <td>Jean</td>\n",
       "      <td>King</td>\n",
       "      <td>1993 Mazda RX-7</td>\n",
       "      <td>34</td>\n",
       "      <td>2004-08-06</td>\n",
       "    </tr>\n",
       "    <tr>\n",
       "      <th>21</th>\n",
       "      <td>Jean</td>\n",
       "      <td>King</td>\n",
       "      <td>1965 Aston Martin DB5</td>\n",
       "      <td>23</td>\n",
       "      <td>2004-08-06</td>\n",
       "    </tr>\n",
       "    <tr>\n",
       "      <th>22</th>\n",
       "      <td>Jean</td>\n",
       "      <td>King</td>\n",
       "      <td>1948 Porsche 356-A Roadster</td>\n",
       "      <td>29</td>\n",
       "      <td>2004-08-06</td>\n",
       "    </tr>\n",
       "    <tr>\n",
       "      <th>23</th>\n",
       "      <td>Jean</td>\n",
       "      <td>King</td>\n",
       "      <td>1995 Honda Civic</td>\n",
       "      <td>29</td>\n",
       "      <td>2004-08-06</td>\n",
       "    </tr>\n",
       "    <tr>\n",
       "      <th>24</th>\n",
       "      <td>Jean</td>\n",
       "      <td>King</td>\n",
       "      <td>1999 Indy 500 Monte Carlo SS</td>\n",
       "      <td>39</td>\n",
       "      <td>2004-08-06</td>\n",
       "    </tr>\n",
       "    <tr>\n",
       "      <th>25</th>\n",
       "      <td>Jean</td>\n",
       "      <td>King</td>\n",
       "      <td>1992 Ferrari 360 Spider red</td>\n",
       "      <td>42</td>\n",
       "      <td>2004-08-06</td>\n",
       "    </tr>\n",
       "    <tr>\n",
       "      <th>26</th>\n",
       "      <td>Jean</td>\n",
       "      <td>King</td>\n",
       "      <td>1948 Porsche Type 356 Roadster</td>\n",
       "      <td>31</td>\n",
       "      <td>2004-08-06</td>\n",
       "    </tr>\n",
       "    <tr>\n",
       "      <th>27</th>\n",
       "      <td>Jean</td>\n",
       "      <td>King</td>\n",
       "      <td>1966 Shelby Cobra 427 S/C</td>\n",
       "      <td>35</td>\n",
       "      <td>2004-08-06</td>\n",
       "    </tr>\n",
       "    <tr>\n",
       "      <th>28</th>\n",
       "      <td>Jean</td>\n",
       "      <td>King</td>\n",
       "      <td>1982 Lamborghini Diablo</td>\n",
       "      <td>31</td>\n",
       "      <td>2004-08-06</td>\n",
       "    </tr>\n",
       "    <tr>\n",
       "      <th>29</th>\n",
       "      <td>Jean</td>\n",
       "      <td>King</td>\n",
       "      <td>1956 Porsche 356A Coupe</td>\n",
       "      <td>25</td>\n",
       "      <td>2004-08-06</td>\n",
       "    </tr>\n",
       "  </tbody>\n",
       "</table>\n",
       "</div>"
      ],
      "text/plain": [
       "   contactFirstName contactLastName  \\\n",
       "0           Carine          Schmitt   \n",
       "1           Carine          Schmitt   \n",
       "2           Carine          Schmitt   \n",
       "3           Carine          Schmitt   \n",
       "4           Carine          Schmitt   \n",
       "5           Carine          Schmitt   \n",
       "6           Carine          Schmitt   \n",
       "7              Jean            King   \n",
       "8              Jean            King   \n",
       "9              Jean            King   \n",
       "10             Jean            King   \n",
       "11             Jean            King   \n",
       "12             Jean            King   \n",
       "13             Jean            King   \n",
       "14             Jean            King   \n",
       "15             Jean            King   \n",
       "16             Jean            King   \n",
       "17             Jean            King   \n",
       "18             Jean            King   \n",
       "19             Jean            King   \n",
       "20             Jean            King   \n",
       "21             Jean            King   \n",
       "22             Jean            King   \n",
       "23             Jean            King   \n",
       "24             Jean            King   \n",
       "25             Jean            King   \n",
       "26             Jean            King   \n",
       "27             Jean            King   \n",
       "28             Jean            King   \n",
       "29             Jean            King   \n",
       "\n",
       "                                  productName quantityOrdered   orderDate  \n",
       "0                       1965 Aston Martin DB5              26  2003-05-20  \n",
       "1                1999 Indy 500 Monte Carlo SS              46  2003-05-20  \n",
       "2              1948 Porsche Type 356 Roadster              34  2003-05-20  \n",
       "3                   1966 Shelby Cobra 427 S/C              50  2003-05-20  \n",
       "4                       1996 Moto Guzzi 1100i              39  2004-09-27  \n",
       "5         1936 Harley Davidson El Knucklehead              32  2004-09-27  \n",
       "6   1938 Cadillac V-16 Presidential Limousine              43  2004-11-25  \n",
       "7                    1917 Grand Touring Sedan              21  2003-05-21  \n",
       "8                          1911 Ford Town Car              42  2003-05-21  \n",
       "9                   1932 Model A Ford J-Coupe              42  2003-05-21  \n",
       "10        1932 Alfa Romeo 8C2300 Spider Sport              36  2003-05-21  \n",
       "11                      1957 Ford Thunderbird              23  2003-05-21  \n",
       "12                 1970 Chevy Chevelle SS 454              22  2003-05-21  \n",
       "13                1939 Chevrolet Deluxe Coupe              45  2003-05-21  \n",
       "14  1938 Cadillac V-16 Presidential Limousine              22  2003-05-21  \n",
       "15                         1949 Jaguar XK 120              32  2003-05-21  \n",
       "16                          1952 Citroen-15CV              25  2003-05-21  \n",
       "17                  1969 Chevrolet Camaro Z28              49  2003-05-21  \n",
       "18                        2002 Chevy Corvette              43  2003-05-21  \n",
       "19           1936 Mercedes Benz 500k Roadster              46  2003-05-21  \n",
       "20                            1993 Mazda RX-7              34  2004-08-06  \n",
       "21                      1965 Aston Martin DB5              23  2004-08-06  \n",
       "22                1948 Porsche 356-A Roadster              29  2004-08-06  \n",
       "23                           1995 Honda Civic              29  2004-08-06  \n",
       "24               1999 Indy 500 Monte Carlo SS              39  2004-08-06  \n",
       "25                1992 Ferrari 360 Spider red              42  2004-08-06  \n",
       "26             1948 Porsche Type 356 Roadster              31  2004-08-06  \n",
       "27                  1966 Shelby Cobra 427 S/C              35  2004-08-06  \n",
       "28                    1982 Lamborghini Diablo              31  2004-08-06  \n",
       "29                    1956 Porsche 356A Coupe              25  2004-08-06  "
      ]
     },
     "execution_count": 30,
     "metadata": {},
     "output_type": "execute_result"
    }
   ],
   "source": [
    "c.execute(\"\"\"SELECT contactFirstName, \n",
    "                    contactLastName, \n",
    "                    productName, \n",
    "                    quantityOrdered, \n",
    "                    orderDate \n",
    "            FROM customers\n",
    "            JOIN orders\n",
    "            USING (customerNumber)\n",
    "            JOIN orderdetails\n",
    "            USING (orderNumber)\n",
    "            JOIN products\n",
    "            USING (productCode)\"\"\")\n",
    "\n",
    "\n",
    "df = pd.DataFrame(c.fetchall())\n",
    "df.columns = [i[0] for i in c.description]\n",
    "df.head(30)"
   ]
  },
  {
   "cell_type": "markdown",
   "metadata": {},
   "source": [
    "## Summary"
   ]
  },
  {
   "cell_type": "markdown",
   "metadata": {},
   "source": [
    "In this lab, you practiced your knowledge on one-to-many and many-to-many relationships!"
   ]
  }
 ],
 "metadata": {
  "kernelspec": {
   "display_name": "Python 3",
   "language": "python",
   "name": "python3"
  },
  "language_info": {
   "codemirror_mode": {
    "name": "ipython",
    "version": 3
   },
   "file_extension": ".py",
   "mimetype": "text/x-python",
   "name": "python",
   "nbconvert_exporter": "python",
   "pygments_lexer": "ipython3",
   "version": "3.6.6"
  }
 },
 "nbformat": 4,
 "nbformat_minor": 2
}
